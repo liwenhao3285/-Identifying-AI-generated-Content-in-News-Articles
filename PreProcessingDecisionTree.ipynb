{
 "cells": [
  {
   "cell_type": "markdown",
   "metadata": {},
   "source": [
    "# Pre-Processing for Decision Tree"
   ]
  },
  {
   "cell_type": "code",
   "execution_count": 1,
   "metadata": {},
   "outputs": [
    {
     "name": "stderr",
     "output_type": "stream",
     "text": [
      "[nltk_data] Downloading package punkt to\n",
      "[nltk_data]     C:\\Users\\lihon\\AppData\\Roaming\\nltk_data...\n",
      "[nltk_data]   Package punkt is already up-to-date!\n"
     ]
    }
   ],
   "source": [
    "import nltk\n",
    "from nltk.tokenize import sent_tokenize\n",
    "from nltk.tokenize import word_tokenize\n",
    "nltk.download('punkt')\n",
    "import statistics\n",
    "import pandas as pd\n",
    "import re\n",
    "import os, glob"
   ]
  },
  {
   "cell_type": "code",
   "execution_count": 2,
   "metadata": {},
   "outputs": [],
   "source": [
    "#This function return the number of words in a string\n",
    "def words_num(paragraph):\n",
    "    tokens = word_tokenize(paragraph)\n",
    "    return len(tokens)"
   ]
  },
  {
   "cell_type": "code",
   "execution_count": 3,
   "metadata": {},
   "outputs": [],
   "source": [
    "#This function analyze the structure of a given string\n",
    "#This function returns the number of sentence, number of sentence < 11 words, number of sentence > 34\n",
    "#standard dev in sentence length, length difference in consective sentence\n",
    "def sentence_num(paragraph):\n",
    "    number_of_sentences = sent_tokenize(paragraph)\n",
    "    num_sentense_low = 0\n",
    "    num_sentense_high = 0\n",
    "    list_word_num = [words_num(x) for x in number_of_sentences]\n",
    "    list_consective_diff = [abs(t - s) for s, t in zip(list_word_num, list_word_num[1:])]\n",
    "    for i in list_word_num:\n",
    "        if i < 11:\n",
    "            num_sentense_low += 1\n",
    "        elif i > 34:\n",
    "            num_sentense_high += 1\n",
    "    return len(number_of_sentences), num_sentense_low, num_sentense_high, sum(list_consective_diff)/len(number_of_sentences), statistics.pstdev(list_word_num)"
   ]
  },
  {
   "cell_type": "code",
   "execution_count": 4,
   "metadata": {},
   "outputs": [],
   "source": [
    "#Create the dataframe for storing features for model training\n",
    "df = pd.DataFrame(columns = [\"sentence_per_paragraph\", \"words_per_paragraph\", \")present\", \"-present\", \";or:present\", \"?present\", \"standard_dev_in_sentence_len\",\n",
    "                             \"length_diff_in_consective_sentence\", \"sentence<11\", \"sentence>34\", \"contains_although\", \"contains_However\", \"contains_but\",\n",
    "                             \"contains_because\", \"contains_this\", \"contains_others_or_researchers\", \"contains_num\", \"contains_more_capitals\", \"contains_et\", \n",
    "                             \"class\"])"
   ]
  },
  {
   "cell_type": "code",
   "execution_count": 5,
   "metadata": {},
   "outputs": [],
   "source": [
    "#This function takes a string and extract all features needed for model training\n",
    "def add_to_df(sentences, fake_or_real):\n",
    "    words = words_num(sentences)\n",
    "\n",
    "    sent, low, high, consec, dev = sentence_num(sentences)\n",
    "    lowered = sentences.lower()\n",
    "\n",
    "    df.loc[len(df.index)] = [sent, words, \")\" in sentences, \"-\" in sentences, \";\" in sentences or \":\" in sentences, \"?\" in sentences, dev, consec, low, high, \n",
    "                            \"although\" in lowered, \"however\" in lowered, \"but\" in lowered, \"because\" in lowered, \"this\" in lowered, \"others\" in lowered or \n",
    "                            \"researchers\" in lowered, bool(re.search(r'\\d', sentences)), len(re.findall(r'[A-Z]', sentences)) > 2 * len(re.findall(\"\\.\", sentences)),\n",
    "                            \"et\" in lowered, fake_or_real]"
   ]
  },
  {
   "cell_type": "code",
   "execution_count": 6,
   "metadata": {},
   "outputs": [],
   "source": [
    "#path for training data set\n",
    "path_fake = \"\\\\fake_arts\"\n",
    "path_fake = os.getcwd() + path_fake\n",
    "path_real = \"\\\\real_arts\"\n",
    "path_real = os.getcwd() + path_real"
   ]
  },
  {
   "cell_type": "code",
   "execution_count": 7,
   "metadata": {},
   "outputs": [],
   "source": [
    "#extract all features for ai-generated content\n",
    "for fileName in glob.glob(os.path.join(path_fake, \"*.txt\")):\n",
    "    with open(os.path.join(os.getcwd(), fileName), 'r', encoding=\"cp437\") as f:\n",
    "        add_to_df(f.read(), 0)"
   ]
  },
  {
   "cell_type": "code",
   "execution_count": 8,
   "metadata": {},
   "outputs": [],
   "source": [
    "#extract all features for humen written content\n",
    "for fileName in glob.glob(os.path.join(path_real, \"*.txt\")):\n",
    "    with open(os.path.join(os.getcwd(), fileName), 'r', encoding=\"cp437\") as f:\n",
    "        add_to_df(f.read(), 1)"
   ]
  },
  {
   "cell_type": "code",
   "execution_count": 9,
   "metadata": {},
   "outputs": [],
   "source": [
    "#export result as an csv file\n",
    "df.to_csv(\"testdata.csv\", encoding='utf-8', index=False)"
   ]
  }
 ],
 "metadata": {
  "kernelspec": {
   "display_name": "Python 3",
   "language": "python",
   "name": "python3"
  },
  "language_info": {
   "codemirror_mode": {
    "name": "ipython",
    "version": 3
   },
   "file_extension": ".py",
   "mimetype": "text/x-python",
   "name": "python",
   "nbconvert_exporter": "python",
   "pygments_lexer": "ipython3",
   "version": "3.11.4"
  }
 },
 "nbformat": 4,
 "nbformat_minor": 2
}
