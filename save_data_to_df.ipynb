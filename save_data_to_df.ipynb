{
 "cells": [
  {
   "cell_type": "code",
   "execution_count": 13,
   "metadata": {},
   "outputs": [],
   "source": [
    "import os\n",
    "import glob\n",
    "import pandas as pd"
   ]
  },
  {
   "cell_type": "code",
   "execution_count": 14,
   "metadata": {},
   "outputs": [],
   "source": [
    "#path for training data set\n",
    "path_fake = \"\\\\fake_arts\"\n",
    "path_fake = os.getcwd() + path_fake\n",
    "path_real = \"\\\\real_arts\"\n",
    "path_real = os.getcwd() + path_real"
   ]
  },
  {
   "cell_type": "code",
   "execution_count": 15,
   "metadata": {},
   "outputs": [],
   "source": [
    "df = pd.DataFrame(columns = [\"text\", \"classes\"])"
   ]
  },
  {
   "cell_type": "code",
   "execution_count": 16,
   "metadata": {},
   "outputs": [],
   "source": [
    "for fileName in glob.glob(os.path.join(path_fake, \"*.txt\")):\n",
    "    with open(os.path.join(os.getcwd(), fileName), 'r', encoding=\"cp437\") as f:\n",
    "        df.loc[len(df.index)] = [f.read(), 0]"
   ]
  },
  {
   "cell_type": "code",
   "execution_count": 17,
   "metadata": {},
   "outputs": [],
   "source": [
    "for fileName in glob.glob(os.path.join(path_real, \"*.txt\")):\n",
    "    with open(os.path.join(os.getcwd(), fileName), 'r', encoding=\"cp437\") as f:\n",
    "        df.loc[len(df.index)] = [f.read(), 1]"
   ]
  },
  {
   "cell_type": "code",
   "execution_count": 18,
   "metadata": {},
   "outputs": [],
   "source": [
    "df.to_csv(\"dataset.csv\", encoding='utf-8', index=False)"
   ]
  }
 ],
 "metadata": {
  "kernelspec": {
   "display_name": "Python 3",
   "language": "python",
   "name": "python3"
  },
  "language_info": {
   "codemirror_mode": {
    "name": "ipython",
    "version": 3
   },
   "file_extension": ".py",
   "mimetype": "text/x-python",
   "name": "python",
   "nbconvert_exporter": "python",
   "pygments_lexer": "ipython3",
   "version": "3.11.4"
  }
 },
 "nbformat": 4,
 "nbformat_minor": 2
}
